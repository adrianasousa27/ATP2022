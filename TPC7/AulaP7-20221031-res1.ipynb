{
 "cells": [
  {
   "cell_type": "markdown",
   "id": "1e545158",
   "metadata": {},
   "source": [
    "# Aula Prática 7 (guião)\n",
    "### Semana de 31 de Outubro a 4 de Novembro de 2022\n",
    "### José Carlos Ramalho e Luís Cunha\n",
    "### Sinopsis:\n",
    "Algoritmos "
   ]
  },
  {
   "cell_type": "markdown",
   "id": "967431ad",
   "metadata": {},
   "source": [
    "### Exercício 1: Considere os seguintes comentários que definem um modelo para guardar os registos de temperatura e precipitação ao longo de vários dias, materializado na variável tabMeteo1:"
   ]
  },
  {
   "cell_type": "code",
   "execution_count": 2,
   "id": "5eda70eb",
   "metadata": {},
   "outputs": [],
   "source": [
    "# TabMeteo = [(Data,TempMin,TempMax,Precipitacao)]\n",
    "    # Data = (Int,Int,Int)\n",
    "    # TempMin = Float\n",
    "    # TempMax = Float\n",
    "    # Precipitacao = Float\n",
    "\n",
    "tabMeteo1 = [((2022,1,20), 2, 16, 0),((2022,1,21), 1, 13, 0.2)]"
   ]
  },
  {
   "cell_type": "markdown",
   "id": "4927f7a9",
   "metadata": {},
   "source": [
    "### 1.a) Calcula a temperatura média de cada dia, dando como resultado uma lista de pares: [(data, temperaturaMédia)]:\n",
    "\n",
    "``` \n",
    "def medias(tabMeteo):\n",
    "    ... \n",
    "    return ... \n",
    "```"
   ]
  },
  {
   "cell_type": "code",
   "execution_count": 3,
   "id": "ac235e8f",
   "metadata": {},
   "outputs": [
    {
     "name": "stdout",
     "output_type": "stream",
     "text": [
      "[((2022, 1, 20), 9.0), ((2022, 1, 21), 7.0)]\n"
     ]
    }
   ],
   "source": [
    "def medias(tabMeteo):\n",
    "    res = []\n",
    "    for data, tmin, tmax, _ in tabMeteo:\n",
    "        tmedia = (tmax+tmin)/2\n",
    "        res.append((data, tmedia))\n",
    "    return res\n",
    "\n",
    "print(medias(tabMeteo1))"
   ]
  },
  {
   "cell_type": "markdown",
   "id": "4d8154bb",
   "metadata": {},
   "source": [
    "### 1.b) Calcula a temperatura mínima mais baixa registada na tabela, dando como resultado esse valor:\n",
    "\n",
    "``` \n",
    "def minMin(tabMeteo):\n",
    "    ... \n",
    "    return ... \n",
    "```"
   ]
  },
  {
   "cell_type": "code",
   "execution_count": 4,
   "id": "a01aefa9",
   "metadata": {},
   "outputs": [
    {
     "name": "stdout",
     "output_type": "stream",
     "text": [
      "1\n"
     ]
    }
   ],
   "source": [
    "def minMin(tabMeteo):\n",
    "    res = tabMeteo[0][1]\n",
    "    for _, tmin, *_ in tabMeteo:\n",
    "        if tmin < res:\n",
    "            res = tmin\n",
    "    return res\n",
    "\n",
    "print(minMin(tabMeteo1))"
   ]
  },
  {
   "cell_type": "markdown",
   "id": "e055ae1a",
   "metadata": {},
   "source": [
    "### 1.c) Calcula a amplitude térmica (diferença entre a temperatura máxima e a temperatura mínima) de cada dia, dando como resultado uma lista de pares: [(data, amplitude)]\n",
    "\n",
    "``` \n",
    "def amplTerm(tabMeteo):\n",
    "    ... \n",
    "    return ... \n",
    "```"
   ]
  },
  {
   "cell_type": "code",
   "execution_count": 5,
   "id": "4f76a805",
   "metadata": {},
   "outputs": [
    {
     "name": "stdout",
     "output_type": "stream",
     "text": [
      "[((2022, 1, 20), 14), ((2022, 1, 21), 12)]\n"
     ]
    }
   ],
   "source": [
    "def amplTerm(tabMeteo):\n",
    "    res = [(data, tmax - tmin) for data, tmin, tmax, _ in tabMeteo]\n",
    "    return res \n",
    "\n",
    "print(amplTerm(tabMeteo1))"
   ]
  },
  {
   "cell_type": "markdown",
   "id": "5c482db9",
   "metadata": {},
   "source": [
    "### 1.d) Calcula o dia em que a precipitação registada teve o seu valor máximo e indica esse valor, dando como resultado o par (data, valor):\n",
    "\n",
    "```\n",
    "def maxChuva(tabMeteo):\n",
    "    ... \n",
    "    return ... \n",
    "```"
   ]
  },
  {
   "cell_type": "code",
   "execution_count": 6,
   "id": "21a1e1dc",
   "metadata": {},
   "outputs": [
    {
     "name": "stdout",
     "output_type": "stream",
     "text": [
      "((2022, 1, 21), 0.2)\n"
     ]
    }
   ],
   "source": [
    "def maxChuva(tabMeteo):\n",
    "    res = (tabMeteo[0][0], tabMeteo[0][3])\n",
    "    for data, _, _, precip in tabMeteo:\n",
    "        if precip > res[1]:\n",
    "            res = (data, precip)\n",
    "    return res\n",
    "\n",
    "print(maxChuva(tabMeteo1))"
   ]
  },
  {
   "cell_type": "markdown",
   "id": "2f205e2d",
   "metadata": {},
   "source": [
    "### Exercício 2: Voltando a um dos temas abordados nas aulas especifique funções que:\n",
    "\n",
    "### 2.a) Calcula a lista de divisores de um número inteiro (se um número divide o número passado como argumento dando resto zero na divisão inteira, é considerado um divisor desse número):\n",
    "\n",
    "``` \n",
    "def divisores(n):\n",
    "    ... \n",
    "    return ... \n",
    "```"
   ]
  },
  {
   "cell_type": "code",
   "execution_count": 7,
   "id": "d2ea4da9",
   "metadata": {},
   "outputs": [
    {
     "name": "stdout",
     "output_type": "stream",
     "text": [
      "1: [1]\n",
      "48: [1, 2, 3, 4, 6, 8, 12, 16, 24, 48]\n",
      "95: [1, 5, 19, 95]\n",
      "142: [1, 2, 71, 142]\n",
      "189: [1, 3, 7, 9, 21, 27, 63, 189]\n",
      "236: [1, 2, 4, 59, 118, 236]\n",
      "283: [1, 283]\n",
      "330: [1, 2, 3, 5, 6, 10, 11, 15, 22, 30, 33, 55, 66, 110, 165, 330]\n",
      "377: [1, 13, 29, 377]\n",
      "424: [1, 2, 4, 8, 53, 106, 212, 424]\n",
      "471: [1, 3, 157, 471]\n",
      "518: [1, 2, 7, 14, 37, 74, 259, 518]\n",
      "565: [1, 5, 113, 565]\n",
      "612: [1, 2, 3, 4, 6, 9, 12, 17, 18, 34, 36, 51, 68, 102, 153, 204, 306, 612]\n",
      "659: [1, 659]\n"
     ]
    }
   ],
   "source": [
    "# divisores(n) = [i for i in range(1, n+1) if n % i == 0]\n",
    "def divisores(n):\n",
    "    res = []\n",
    "    for i in range(1, n+1):\n",
    "        if n % i == 0:\n",
    "            res.append(i)\n",
    "    return res\n",
    "\n",
    "for j in range(1, 700, 47):\n",
    "    print(str(j) + \": \" + str(divisores(j)))"
   ]
  },
  {
   "cell_type": "markdown",
   "id": "03887104",
   "metadata": {},
   "source": [
    "### 2.b) Verifica se um número inteiro é primo (tem apenas como divisores a unidade e o próprio número), dando como resultado True ou False:\n",
    "\n",
    "``` \n",
    "def eprimo(n):\n",
    "    ... \n",
    "    return ... \n",
    "```"
   ]
  },
  {
   "cell_type": "code",
   "execution_count": 9,
   "id": "ddee7b3f",
   "metadata": {},
   "outputs": [
    {
     "name": "stdout",
     "output_type": "stream",
     "text": [
      "1: False\n",
      "44: False\n",
      "87: False\n",
      "130: False\n",
      "173: True\n",
      "216: False\n",
      "259: False\n",
      "302: False\n",
      "345: False\n",
      "388: False\n",
      "431: True\n",
      "474: False\n",
      "517: False\n",
      "560: False\n",
      "603: False\n",
      "646: False\n",
      "689: False\n",
      "732: False\n",
      "775: False\n",
      "818: False\n",
      "861: False\n",
      "904: False\n",
      "947: True\n",
      "990: False\n"
     ]
    }
   ],
   "source": [
    "# Reutilizando a função anterior...\n",
    "def eprimo(n):\n",
    "    return True if divisores(n) == [1,n] else False\n",
    "    # return True if len(divisores(n)) == 2 else False\n",
    "\n",
    "for x in range(1,1000, 43):\n",
    "    print(str(x) + \": \" + str(eprimo(x)))"
   ]
  },
  {
   "cell_type": "markdown",
   "id": "ed43d3eb",
   "metadata": {},
   "source": [
    "### 2.c) Calcula a lista de números primos até um determinado número dado (inclusive):\n",
    "\n",
    "```\n",
    "def primosN(n):\n",
    "    ... \n",
    "    return ... \n",
    "```"
   ]
  },
  {
   "cell_type": "code",
   "execution_count": 10,
   "id": "f451f1c2",
   "metadata": {},
   "outputs": [
    {
     "name": "stdout",
     "output_type": "stream",
     "text": [
      "[2, 3, 5, 7, 11, 13, 17, 19, 23, 29, 31, 37, 41, 43, 47, 53, 59, 61, 67, 71, 73, 79, 83, 89, 97, 101, 103, 107, 109, 113, 127, 131, 137, 139, 149, 151, 157, 163, 167, 173, 179, 181, 191, 193, 197, 199, 211, 223, 227, 229, 233, 239, 241, 251, 257, 263, 269, 271, 277, 281, 283, 293, 307, 311, 313, 317, 331, 337, 347, 349, 353, 359, 367, 373, 379, 383, 389, 397, 401, 409, 419, 421, 431, 433, 439, 443, 449, 457, 461, 463, 467, 479, 487, 491, 499, 503, 509, 521, 523, 541, 547, 557, 563, 569, 571, 577, 587, 593, 599, 601, 607, 613, 617, 619, 631, 641, 643, 647, 653, 659, 661, 673, 677, 683, 691, 701, 709, 719, 727, 733, 739, 743, 751, 757, 761, 769, 773, 787, 797, 809, 811, 821, 823, 827, 829, 839, 853, 857, 859, 863, 877, 881, 883, 887, 907, 911, 919, 929, 937, 941, 947, 953, 967, 971, 977, 983, 991, 997]\n"
     ]
    }
   ],
   "source": [
    "def primosN(n):\n",
    "    # res = [i for i in range(1, n+1) if eprimo(i)]\n",
    "    res = []\n",
    "    for i in range(1, n+1):\n",
    "        if eprimo(i):\n",
    "            res.append(i)\n",
    "    return res\n",
    "\n",
    "print(primosN(1000))"
   ]
  },
  {
   "cell_type": "markdown",
   "id": "d83d31d0",
   "metadata": {},
   "source": [
    "### 2.d) Calcula quantos números inteiros entre 1 e 10000 são múltiplos de 23 e devolve esse número (um múltiplo de 23 é um número que tem 23 como divisor):\n",
    "\n",
    "```\n",
    "def multiplos23():\n",
    "    ... \n",
    "    return ... \n",
    "```"
   ]
  },
  {
   "cell_type": "code",
   "execution_count": 13,
   "id": "8931b1ca",
   "metadata": {},
   "outputs": [
    {
     "name": "stdout",
     "output_type": "stream",
     "text": [
      "4347\n"
     ]
    }
   ],
   "source": [
    "def multiplos23(n):\n",
    "    res = [i for i in range(1, n+1) if i % 23 == 0]\n",
    "    return len(res)\n",
    "\n",
    "print(multiplos23(100000))"
   ]
  },
  {
   "cell_type": "markdown",
   "id": "ae949737",
   "metadata": {},
   "source": [
    "### Exercício 3: Espeficique uma função que recebe um número romano e devolve o correspondente número decimal"
   ]
  },
  {
   "cell_type": "code",
   "execution_count": 17,
   "id": "54b85eb0",
   "metadata": {},
   "outputs": [
    {
     "name": "stdout",
     "output_type": "stream",
     "text": [
      "444\n"
     ]
    }
   ],
   "source": [
    "# Solução do exercício 3\n",
    "def Roman2Dec(r):\n",
    "    romanos = {\n",
    "        'I': (1, 'unidades'),\n",
    "        'V': (5, 'unidades'),\n",
    "        'X': (10, 'dezenas'),\n",
    "        'L': (50, 'dezenas'),\n",
    "        'C': (100, 'centenas'),\n",
    "        'D': (500, 'centenas'),\n",
    "        'M': (1000, 'milhares')\n",
    "    }\n",
    "    res = romanos[r[0]][0]\n",
    "    ant = romanos[r[0]][0]\n",
    "    categ = romanos[r[0]][1]\n",
    "\n",
    "    for letra in r[1:]:\n",
    "        if romanos[letra][1] == categ:\n",
    "            if romanos[letra][0] > ant:\n",
    "                res = res - ant + romanos[letra][0] - ant \n",
    "                ant = romanos[letra][0]\n",
    "            else:\n",
    "                res = res + romanos[letra][0]\n",
    "                ant = romanos[letra][0]\n",
    "                categ = romanos[letra][1]\n",
    "        else:\n",
    "            res = res + romanos[letra][0]\n",
    "            ant = romanos[letra][0]\n",
    "            categ = romanos[letra][1]\n",
    "    return res\n",
    "\n",
    "print(Roman2Dec('CDXLIV'))"
   ]
  },
  {
   "cell_type": "markdown",
   "id": "9761d73f",
   "metadata": {},
   "source": [
    "### Metodologia\n",
    "\n",
    "Ao longo dos próximos exercícios irás construir um módulo Python para desenho usando a biblioteca `matplotlib`.\n",
    "Nesse sentido, coloca todas as funções que desenvolveres num módulo chamado `myDrawingFunctions.py` que deverás importar nos programas que irás desenvolver neste guião."
   ]
  },
  {
   "cell_type": "markdown",
   "id": "1d9c2fbc",
   "metadata": {},
   "source": [
    "### Exercício 4: O quadrado \n",
    "\n",
    "Especifica, no teu módulo, uma função para desenhar um quadrado. Além do lado, pensa em parâmetros que te permitam posicionar o quadrado no plano xy.\n",
    "\n",
    "Importa o módulo num programa que irá desenhar os seguintes quadrados:\n",
    "* 1 quadrado de 100 unidades de lado, centrado na origem;\n",
    "* 99 quadrados, dentro do quadrado inicial, em que as coordenadas do canto inferior esquerdo vão sendo incrementadas de 1, ou o lado decrementado de 1."
   ]
  },
  {
   "cell_type": "code",
   "execution_count": null,
   "id": "fde54325",
   "metadata": {},
   "outputs": [],
   "source": [
    "# Solução do exercício 4\n",
    "import myDrawingFunctions as draw\n",
    "\n",
    "draw.quad(0, 0, 100)\n",
    "draw.nquad(0, 0, [x for x in range(1, 101, 5)])"
   ]
  },
  {
   "cell_type": "markdown",
   "id": "57f1522d",
   "metadata": {},
   "source": [
    "### Exercício 5: O retângulo\n",
    "\n",
    "Acrescenta ao teu módulo uma função para desenhar um retângulo devidamente posicionado. Acrescenta um parâmetro cor.\n",
    "\n",
    "Usa agora as funcionalidades do teu módulo para desenhar os seguintes retângulos:\n",
    "* 1 retângulo com o canto inferior esquerdo em (0,0) e o canto superior direito em (5,10);\n",
    "* 10 retângulos, lado a lado, em que os ímpares têm altura 100 e largura 20 e os pares altura 70 e largura 10;\n",
    "* Faz variar a cor entre os retângulos. "
   ]
  },
  {
   "cell_type": "code",
   "execution_count": null,
   "id": "199c3004",
   "metadata": {},
   "outputs": [],
   "source": [
    "# Solução do exercício 5\n",
    "import myDrawingFunctions as draw\n",
    "\n",
    "draw.rect(0, 0, 5, 100)\n"
   ]
  },
  {
   "cell_type": "markdown",
   "id": "08100b64",
   "metadata": {},
   "source": [
    "### Exercício 6: O círculo\n",
    "\n",
    "Acrescenta ao teu módulo uma função para desenhar um círculo devidamente posicionado. Acrescenta um parâmetro cor.\n",
    "\n",
    "Usa agora as funcionalidades do teu módulo para desenhar os seguintes círculos:\n",
    "* 1 círculo de raio 10, centrado na origem;\n",
    "* 10 círculos, concêntricos, centrados na origem, com lados `[10,20,30,40,50,60,70,80,90,100]`;\n",
    "* Faz variar a cor entre os círculos. "
   ]
  },
  {
   "cell_type": "code",
   "execution_count": null,
   "id": "d08949e6",
   "metadata": {},
   "outputs": [],
   "source": [
    "# Solução do exercício 6\n",
    "import myDrawingFunctions as draw\n",
    "\n",
    "draw.circ(0, 0, 10)\n",
    "# ..."
   ]
  },
  {
   "cell_type": "markdown",
   "id": "4193a91b",
   "metadata": {},
   "source": [
    "### TPC7: Análise de dados: Alunos\n",
    "\n",
    "Descarregue o ficheiro de dados: `alunos.csv`\n",
    "Crie um programa em Python, conjunto de funções, que responda às seguintes questões:\n",
    "* Crie uma função que lê a informação do ficheiro para um modelo, previamente pensado em memória;\n",
    "* Crie uma função que calcula a distribuição dos alunos por curso;\n",
    "* Crie uma função que calcula a média das notas de cada aluno e acrescenta essa nova coluna no dataset em memória;\n",
    "* Considere os seguintes escalões de notas: E [1-4], D [5-8], C [9-12], B [13-16], A [17-20], acrescente uma coluna ao dataset com o escalão correspondente a cada aluno;\n",
    "* Crie uma distribuição dos alunos por escalão;\n",
    "* Crie uma função que apresenta na forma dum gráfico de linha uma distribuição;\n",
    "* Crie uma função que imprime na forma de uma tabela uma distribuição;\n",
    "* Especifique um programa que, ciclicamente, apresenta um menu com todas funcionalidades ao utilizador."
   ]
  }
 ],
 "metadata": {
  "kernelspec": {
   "display_name": "Python 3.9.1 64-bit",
   "language": "python",
   "name": "python3"
  },
  "language_info": {
   "codemirror_mode": {
    "name": "ipython",
    "version": 3
   },
   "file_extension": ".py",
   "mimetype": "text/x-python",
   "name": "python",
   "nbconvert_exporter": "python",
   "pygments_lexer": "ipython3",
   "version": "3.9.4"
  },
  "vscode": {
   "interpreter": {
    "hash": "aee8b7b246df8f9039afb4144a1f6fd8d2ca17a180786b69acc140d282b71a49"
   }
  }
 },
 "nbformat": 4,
 "nbformat_minor": 5
}
