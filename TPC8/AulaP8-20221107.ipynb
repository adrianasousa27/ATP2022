{
 "cells": [
  {
   "cell_type": "markdown",
   "id": "1e545158",
   "metadata": {},
   "source": [
    "# Aula Prática 8 (guião)\n",
    "### Semana de 7 de Novembro a 11 de Novembro de 2022\n",
    "### José Carlos Ramalho e Luís Cunha\n",
    "### Sinopsis:\n",
    "Consolidação e aferição de tudo o que foi feito até ao momento. "
   ]
  },
  {
   "cell_type": "markdown",
   "id": "9b9b5140-2b81-435e-9fc0-324437a7b453",
   "metadata": {},
   "source": [
    "### Assunto: Frações\n",
    "Vamos pensar num modelo: o que é uma fração estruturalmente?"
   ]
  },
  {
   "cell_type": "code",
   "execution_count": null,
   "id": "5a6da5eb",
   "metadata": {},
   "outputs": [],
   "source": [
    "# Modelo duma fração\n",
    "f1 = (1,2)\n",
    "# Modelo duma lista de frações\n",
    "listaFrac = [(1,2),(3,2),(1,3)]"
   ]
  },
  {
   "cell_type": "markdown",
   "id": "d477052b-e074-4a5d-ac12-85c2286a1e5f",
   "metadata": {},
   "source": [
    "### Construtor"
   ]
  },
  {
   "cell_type": "code",
   "execution_count": null,
   "id": "33d1c7e9-22af-4473-9b21-3e7ce0fcf571",
   "metadata": {},
   "outputs": [],
   "source": [
    "def criarFracao(numerador, denominador):\n",
    "    return (numerador, denominador)\n",
    "\n",
    "f2 = criarFracao(1,2)\n",
    "print(f2)\n",
    "\n",
    "def verFracao(f):\n",
    "    print(f[0], \"/\", f[1], end = \" \", sep = \"\")\n",
    "    return\n",
    "\n",
    "verFracao(f2)\n",
    "\n",
    "def verListaFracao(f):\n",
    "    for i in f:\n",
    "        verFracao(i)\n",
    "verListaFracao(listaFrac)"
   ]
  },
  {
   "cell_type": "markdown",
   "id": "f7cd0ff1",
   "metadata": {},
   "source": [
    "### Simplificação de frações"
   ]
  },
  {
   "cell_type": "code",
   "execution_count": null,
   "id": "ff309bf0",
   "metadata": {},
   "outputs": [],
   "source": [
    "#Encontrar o máximo divisor comum\n",
    "# Qual é o número entre o 1 e o menor entre eles que divide ambos os números\n",
    "\n",
    "def mdcFraquinho(a,b):\n",
    "    if a > b:\n",
    "        menor = b\n",
    "    else:\n",
    "        menor = a\n",
    "    for n in range(1, menor + 1):   #menor-1 porque o range tira sempre -1\n",
    "        if a % n == 0 and b % n == 0:\n",
    "            mdc = n\n",
    "    return mdc\n",
    "\n",
    "print(mdcFraquinho(15, 10))\n"
   ]
  },
  {
   "cell_type": "code",
   "execution_count": null,
   "id": "cb9d4884",
   "metadata": {},
   "outputs": [],
   "source": [
    "\n",
    "#a = 30\n",
    "#b = 25\n",
    "#return(25,5) o 25 vai passar a ser o a e o 5 o b\n",
    "\n",
    "def mdcSubtraindo(a,b):\n",
    "    if a == b:\n",
    "        return a\n",
    "    if a > b:\n",
    "        return mdcSubtraindo(b, a - b)\n",
    "    else:\n",
    "        return mdcSubtraindo(a, b - a)\n",
    "\n",
    "print(mdcSubtraindo(10,15))\n",
    "\n",
    "def mdc(a,b):\n",
    "    if a % b == 0:\n",
    "        return b\n",
    "    return mdc(b, a % b)"
   ]
  },
  {
   "cell_type": "code",
   "execution_count": null,
   "id": "2b86e56e",
   "metadata": {},
   "outputs": [],
   "source": [
    "def simplificarFracao(f):\n",
    "    mdc_tmp = mdc(f[0], f[1])\n",
    "    return criarFracao(int(f[0])/ mdc_tmp, int(f[1])/mdc_tmp )\n",
    "\n",
    "print(simplificarFracao((25,5)))"
   ]
  },
  {
   "cell_type": "markdown",
   "id": "d52f012f",
   "metadata": {},
   "source": [
    "## Operações sobre frações"
   ]
  },
  {
   "cell_type": "code",
   "execution_count": null,
   "id": "96ba280b",
   "metadata": {},
   "outputs": [],
   "source": [
    "\n",
    "\n",
    "\n",
    "def somarFrac(f1, f2):\n",
    "    if f1[1] == f2[1]:\n",
    "        soma = (f1[0] + f2[0], f1[1])\n",
    "    else:\n",
    "        soma = (f1[0]*f2[1] + f2[0]*f1[1], f1[1]*f2[1])\n",
    "    return soma\n",
    "print(somarFrac((1,2), (1,3)))\n",
    "\n",
    "f2 = criarFracao(5,7)\n",
    "verFracao(somarFrac(f1,f2))"
   ]
  },
  {
   "cell_type": "code",
   "execution_count": null,
   "id": "51ff3012",
   "metadata": {},
   "outputs": [],
   "source": [
    "f1 = criarFracao(2,3)\n",
    "f2 = criarFracao(5,7)\n",
    "verFracao(somarFrac(f1,f2))"
   ]
  },
  {
   "cell_type": "code",
   "execution_count": null,
   "id": "a0198bce",
   "metadata": {},
   "outputs": [],
   "source": [
    "listaFrac = [f1, f2, criarFracao(125,1000), (8,12)]      \n",
    "listaFrac2 = []\n",
    "import random\n",
    "for i in range(1,20):\n",
    "    n = random.randrange(1, 10)       #cria um número aleatório de 1 a 9\n",
    "    d = random.randrange(2, 20)\n",
    "    listaFrac2.append(criarFracao(n,d))\n",
    "print(listaFrac2)\n",
    "print(listaFrac)\n",
    "\n"
   ]
  },
  {
   "cell_type": "markdown",
   "id": "e83e4eae",
   "metadata": {},
   "source": [
    "### Soma uma lista de frações"
   ]
  },
  {
   "cell_type": "code",
   "execution_count": null,
   "id": "402d83f0",
   "metadata": {},
   "outputs": [],
   "source": [
    "def somarListaFrac(lista):\n",
    "    res = lista[0]\n",
    "    for fracao in lista[1:]:\n",
    "        res = somarFrac(res, fracao)\n",
    "    return res\n",
    "\n",
    "print(simplificarFracao(somarListaFrac(listaFrac)))"
   ]
  },
  {
   "cell_type": "markdown",
   "id": "a88929cc",
   "metadata": {},
   "source": [
    "### Multiplica 2 frações"
   ]
  },
  {
   "cell_type": "code",
   "execution_count": null,
   "id": "519c5358",
   "metadata": {},
   "outputs": [],
   "source": [
    "def multFrac(f1, f2):\n",
    "    multiplicacao = (f1[0]*f2[0], f1[1]*f2[1])\n",
    "    return multiplicacao"
   ]
  },
  {
   "cell_type": "markdown",
   "id": "fcd5b5d6",
   "metadata": {},
   "source": [
    "### Guardar uma lista de frações num ficheiro"
   ]
  },
  {
   "cell_type": "code",
   "execution_count": null,
   "id": "2840f9b2",
   "metadata": {},
   "outputs": [],
   "source": [
    "def gravaListaFrac(lista):\n",
    "    file = open(\"fracoes.txt\", \"w\")\n",
    "    for fracao in lista:\n",
    "        file.write(str(f1[0] + \"/\" + str(f1[1]) + \"\\n\"))\n",
    "    file.close()\n",
    "gravaListaFrac(listaFrac)\n",
    "\n"
   ]
  },
  {
   "cell_type": "markdown",
   "id": "0664fcdc",
   "metadata": {},
   "source": [
    "### Recuperar uma lista de frações dum ficheiro"
   ]
  },
  {
   "cell_type": "code",
   "execution_count": null,
   "id": "82aece6e",
   "metadata": {},
   "outputs": [],
   "source": [
    "def carregaListaFrac(fnome):\n",
    "    file = open(fnome, \"r\")\n",
    "    lista = []\n",
    "    for line in file:\n",
    "        fracao = line.split(\"/\")\n",
    "        fracao[1] = fracao[1].replace(\"\\n\", \"\")\n",
    "        print(fracao)\n",
    "        lista.append()\n",
    "    file.close()\n",
    "    return lista\n",
    "    \n",
    "carregaListaFrac(\"fracoes.txt\")"
   ]
  },
  {
   "cell_type": "code",
   "execution_count": null,
   "id": "7fd29181",
   "metadata": {},
   "outputs": [],
   "source": [
    "x = \"Hoje é um dia lindo ######$$$$$\"\n",
    "x = x.strip(\"$\")\n",
    "x = x.strip(\"#\")\n",
    "print(x)"
   ]
  },
  {
   "cell_type": "markdown",
   "id": "4193a91b",
   "metadata": {},
   "source": [
    "### TPC8: Teste de aferição\n",
    "\n",
    "Resolva os problemas apresentados a seguir."
   ]
  },
  {
   "cell_type": "markdown",
   "id": "4e758271",
   "metadata": {},
   "source": [
    "### tpc1.a) Recebe duas strings, _s1_ e _s2_, e retorna o comprimento da substring inicial de _s1_ que não contem nenhum caráter de _s2_:"
   ]
  },
  {
   "cell_type": "code",
   "execution_count": null,
   "id": "4ae7f5d0",
   "metadata": {},
   "outputs": [],
   "source": [
    "def inicDiferente(s1, s2):\n",
    "    lista = []\n",
    "    for i in s1[0:4]:\n",
    "        if i not in s2:\n",
    "            lista.append(i)\n",
    "    return len(lista)\n",
    "\n",
    "inicDiferente(\"Está um bom dia...\", \"Hoje é um dia alegre.\")\n",
    "# resultado esperado: 4"
   ]
  },
  {
   "cell_type": "markdown",
   "id": "28cb3dc4",
   "metadata": {},
   "source": [
    "### tpc1.b) Recebe um parâmetro _n_ e lê _n_ números inteiros; no fim retorna quantos dos números lidos são superiores à média dos números lidos:"
   ]
  },
  {
   "cell_type": "code",
   "execution_count": null,
   "id": "4458c7bc",
   "metadata": {},
   "outputs": [],
   "source": [
    "def acimaMedia(n):\n",
    "    n = int(input(\"Quantos números deseja inserir?\"))\n",
    "    lista_numeros = []\n",
    "    contador = 1\n",
    "    soma = 0 \n",
    "    media = 0\n",
    "    while contador <= n:\n",
    "        numeros = int(input(\"Insira um numero\"))\n",
    "        contador = contador + 1\n",
    "        lista_numeros.append(numeros)\n",
    "    for n in lista_numeros:\n",
    "        soma =  soma + n\n",
    "        media = soma/len(lista_numeros)\n",
    "    return media\n",
    "\n",
    "\n",
    "    \n",
    "\n"
   ]
  },
  {
   "cell_type": "markdown",
   "id": "e6db31d7",
   "metadata": {},
   "source": [
    "### tpc1.c) Faz o merge de duas listas ordenadas, retornando uma lista ordenada com os elementos das duas listas (__não podes usar nenhuma função de ordenação do Python__):"
   ]
  },
  {
   "cell_type": "code",
   "execution_count": null,
   "id": "2b5ad344",
   "metadata": {},
   "outputs": [],
   "source": [
    "def merge(l1, l2):\n",
    "        lista = []\n",
    "        j = 0\n",
    "        for i in l1:\n",
    "                lista.append(i)\n",
    "                i = i + 1\n",
    "        for u in l2:\n",
    "                lista.append(u)\n",
    "                u = u + 1\n",
    "        while(j < len(lista)):\n",
    "                i = 1\n",
    "                while(i < len(lista)):\n",
    "                        if lista[i + 1] > lista[i]:\n",
    "                                lista[i], lista[i - 1] = lista[i -1], lista[i]\n",
    "                        i = i + 1\n",
    "                j = j + 1\n",
    "        return lista\n",
    "merge([1,2,6,9], [3,4,7,12])\n",
    "# Resultado esperado: [1,2,3,4,6,7,9,12]"
   ]
  },
  {
   "cell_type": "markdown",
   "id": "6698b337",
   "metadata": {},
   "source": [
    "### tpc1.d) Recebe o nome de dois ficheiros de texto, _f1_ e _f2_, e indica se são iguais (__True__) no seu conteúdo ou se são diferentes (__False__):"
   ]
  },
  {
   "cell_type": "code",
   "execution_count": null,
   "id": "54cef309",
   "metadata": {},
   "outputs": [],
   "source": [
    "def figuais(f1, f2):\n",
    "    #...\n",
    "    return # ...\n",
    "\n",
    "#print(figuais(\"texto1.txt\", \"texto1.txt\"))\n",
    "#print(figuais(\"texto1.txt\", \"texto2.txt\"))"
   ]
  },
  {
   "cell_type": "markdown",
   "id": "7cd572fc",
   "metadata": {},
   "source": [
    "## Questão 2: Gestão de uma Cinemateca\n",
    "\n",
    "Analise as seguintes estruturas de dados que materializam o modelo de uma cinemateca:"
   ]
  },
  {
   "cell_type": "code",
   "execution_count": 9,
   "id": "76e9e621",
   "metadata": {},
   "outputs": [],
   "source": [
    "# Cinemateca = [Filme]\n",
    "# Pub = (Título, Ano, Elenco, Géneros)\n",
    "# Título = String\n",
    "# Ano = Int\n",
    "# Elenco = [Ator]\n",
    "# Ator = String\n",
    "# Géneros = [Género]\n",
    "# Género = String\n",
    "Filme1 = (\"Meet the Parents\", 2000, [\"Ben Stiller\",\"Robert De Niro\",\n",
    "      \"Blythe Danner\",\"Teri Polo\",\"Owen Wilson\"], [\"Comedy\", \"Drama\"])\n",
    "Filme2 = (\"Men of Honor\", 2000, [\"Robert De Niro\",\"Cuba Gooding, Jr.\",\n",
    "      \"Charlize Theron\"], [\"Biography\", \"Drama\", \"Thriller\"])\n",
    "Filme3 = (\"Analyze That\", 2002, [\"Robert De Niro\",\"Billy Crystal\",\n",
    "      \"Lisa Kudrow\"], [\"Comedy\"])\n",
    "CineUM = [Filme1, Filme2, Filme3]"
   ]
  },
  {
   "cell_type": "markdown",
   "id": "89afc758",
   "metadata": {},
   "source": [
    " e especifique funções que calculem o que se descreve a seguir:"
   ]
  },
  {
   "cell_type": "markdown",
   "id": "2156a0c8",
   "metadata": {},
   "source": [
    "### tpc2.a)  Devolve uma lista dos atores participantes nos filmes armazenados, ordenada alfabeticamente e sem repetições:"
   ]
  },
  {
   "cell_type": "code",
   "execution_count": 10,
   "id": "8a5a2a41",
   "metadata": {},
   "outputs": [
    {
     "name": "stdout",
     "output_type": "stream",
     "text": [
      "['Ben Stiller', 'Billy Crystal', 'Blythe Danner', 'Charlize Theron', 'Cuba Gooding, Jr.', 'Lisa Kudrow', 'Owen Wilson', 'Robert De Niro', 'Teri Polo']\n"
     ]
    }
   ],
   "source": [
    "def atores(cinemateca):\n",
    "    lista_atores = []\n",
    "    for filme in cinemateca:\n",
    "        Título, Ano, Elenco, Géneros = filme\n",
    "        for Ator in Elenco:  \n",
    "            if Ator not in lista_atores:  \n",
    "                lista_atores.append(Ator)\n",
    "                lista_atores.sort()\n",
    "    return lista_atores\n",
    "\n",
    "print(atores(CineUM))\n",
    "# Resultado esperado: ['Ben Stiller', 'Billy Crystal', 'Blythe Danner', 'Charlize Theron', 'Cuba Gooding, Jr.', 'Lisa Kudrow', 'Owen Wilson', 'Robert De Niro', 'Teri Polo']"
   ]
  },
  {
   "cell_type": "markdown",
   "id": "12f9126b",
   "metadata": {},
   "source": [
    "### tpc2.b)  Devolve uma lista de todos os títulos dos filmes, em ordem alfabética, e de um determinado género passado como argumento:"
   ]
  },
  {
   "cell_type": "code",
   "execution_count": 14,
   "id": "d9dfe30a",
   "metadata": {},
   "outputs": [
    {
     "name": "stdout",
     "output_type": "stream",
     "text": [
      "['Analyze That', 'Meet the Parents']\n"
     ]
    }
   ],
   "source": [
    "def listarPorGenero(cinemateca, genero):\n",
    "    lista = []\n",
    "    for filme in cinemateca:\n",
    "        Título, Ano, Elenco, Géneros = filme\n",
    "        for i in Géneros:\n",
    "            if genero == i:\n",
    "                lista.append(Título)\n",
    "                lista.sort()\n",
    "    return lista\n",
    "\n",
    "print(listarPorGenero(CineUM, \"Comedy\"))\n",
    "# Resultado esperado: ['Analyze That', 'Meet the Parents']"
   ]
  },
  {
   "cell_type": "markdown",
   "id": "1a0f760b",
   "metadata": {},
   "source": [
    "### tpc2.c)  Devolve o título do filme com o maior elenco:"
   ]
  },
  {
   "cell_type": "code",
   "execution_count": 15,
   "id": "a00c85e3",
   "metadata": {},
   "outputs": [
    {
     "name": "stdout",
     "output_type": "stream",
     "text": [
      "Meet the Parents\n"
     ]
    }
   ],
   "source": [
    "def maiorElenco( cinemateca ):      \n",
    "    maior = 0\n",
    "    for filme in cinemateca:\n",
    "        Título, Ano, Elenco, Géneros = filme\n",
    "        if len(Elenco) > maior:\n",
    "            maior = len(Elenco)\n",
    "            return Título\n",
    "\n",
    "\n",
    "print(maiorElenco(CineUM))\n",
    "# Resultado esperado: Meet the Parents"
   ]
  },
  {
   "cell_type": "markdown",
   "id": "65061d0a",
   "metadata": {},
   "source": [
    "### tpc2.d)  Calcula a distribuição de filmes por Género:"
   ]
  },
  {
   "cell_type": "code",
   "execution_count": 26,
   "id": "dc1adabc",
   "metadata": {},
   "outputs": [
    {
     "data": {
      "text/plain": [
       "{'Comedy': 2, 'Drama': 2, 'Biography': 1, 'Thriller': 1}"
      ]
     },
     "execution_count": 26,
     "metadata": {},
     "output_type": "execute_result"
    }
   ],
   "source": [
    "def filmePorGenero( cinemateca ):\n",
    "    distribuicao = {}\n",
    "    for filme in cinemateca:\n",
    "        Título, Ano, Elenco, Géneros = filme\n",
    "        for Género in Géneros:\n",
    "            if Género in distribuicao.keys():\n",
    "                distribuicao[Género] = distribuicao[Género] + 1\n",
    "            else:\n",
    "                distribuicao[Género] = 1\n",
    "    return  distribuicao\n",
    "\n",
    "filmePorGenero(CineUM)"
   ]
  },
  {
   "cell_type": "markdown",
   "id": "de46a635",
   "metadata": {},
   "source": [
    "### tpc2.e)  Represente num gráfico de barras a distribuição calculada na alínea anterior (pode usar o material que entender das aulas):"
   ]
  },
  {
   "cell_type": "code",
   "execution_count": 32,
   "id": "4118730d",
   "metadata": {},
   "outputs": [
    {
     "data": {
      "image/png": "[encoded data removed]",
      "text/plain": [
       "<Figure size 640x480 with 1 Axes>"
      ]
     },
     "metadata": {},
     "output_type": "display_data"
    },
    {
     "name": "stdout",
     "output_type": "stream",
     "text": [
      "None\n"
     ]
    }
   ],
   "source": [
    "import matplotlib.pyplot as plt\n",
    "def graph(dist): \n",
    "    plt.figure()\n",
    "    plt.bar(dist.keys(), dist.values(), color=\"pink\")\n",
    "    plt.xticks([x for x in range(0, len(dist.keys()))], dist.keys())\n",
    "    plt.ylabel(\"Número de Filmes\", rotation= 'vertical')\n",
    "    plt.xlabel(\"Géneros\")\n",
    "    plt.title(\"Distribuição de Filmes por Género\")\n",
    "    plt.show()\n",
    "print(graph(filmePorGenero(CineUM)))"
   ]
  }
 ],
 "metadata": {
  "kernelspec": {
   "display_name": "Python 3.10.7 64-bit",
   "language": "python",
   "name": "python3"
  },
  "language_info": {
   "codemirror_mode": {
    "name": "ipython",
    "version": 3
   },
   "file_extension": ".py",
   "mimetype": "text/x-python",
   "name": "python",
   "nbconvert_exporter": "python",
   "pygments_lexer": "ipython3",
   "version": "3.10.7"
  },
  "vscode": {
   "interpreter": {
    "hash": "f22c1789ba73bd5b85367d3060967ec2327182f6b7277414860336551592ff38"
   }
  }
 },
 "nbformat": 4,
 "nbformat_minor": 5
}
