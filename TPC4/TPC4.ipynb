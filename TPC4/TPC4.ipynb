{
 "cells": [
  {
   "cell_type": "code",
   "execution_count": 1,
   "id": "feb897a8",
   "metadata": {},
   "outputs": [
    {
     "name": "stdout",
     "output_type": "stream",
     "text": [
      "Filmes que estão em exibição:\n",
      "- Twilight\n",
      "- Hannibal\n",
      "None\n",
      "------------\n",
      "True\n",
      "------------\n",
      "[(150, [1, 3, 5, 7, 14, 57, 78, 110, 125, 149, 2], 'Twilight'), (200, [10, 20, 40, 70, 100, 153, 172, 192], 'Hannibal')]\n",
      "------------\n",
      "Filme que está a ser exibido: Twilight\n",
      "Número de lugares disponíveis: [1, 3, 5, 7, 14, 57, 78, 110, 125, 149, 2]\n",
      "Filme que está a ser exibido: Hannibal\n",
      "Número de lugares disponíveis: [10, 20, 40, 70, 100, 153, 172, 192]\n",
      "None\n",
      "------------\n",
      "[(150, [1, 3, 5, 7, 14, 57, 78, 110, 125, 149, 2], 'Twilight'), (200, [10, 20, 40, 70, 100, 153, 172, 192], 'Hannibal'), (10, [1, 3, 6], 'The Hunger Games')]\n"
     ]
    }
   ],
   "source": [
    "#Cinema = [Sala]\n",
    "# Sala = (nlugares, Vendidos, filme)\n",
    "#nlugares = Int\n",
    "#filme = String \n",
    "#Vendidos = [Int]\n",
    "\n",
    "from re import I\n",
    "\n",
    "cinema = [(150, [1, 3, 5, 7, 14, 57, 78, 110, 125, 149], \"Twilight\"), (200, [10, 20, 40, 70, 100, 153, 172, 192], \"Hannibal\")]\n",
    "\n",
    "def listar (listacinema):\n",
    "    print(\"Filmes que estão em exibição:\")\n",
    "    for i in listacinema:\n",
    "        nlugares, vendidos, filme = i\n",
    "        print(\"-\", filme)\n",
    "print(listar(cinema))\n",
    "print(\"------------\")\n",
    "\n",
    "\n",
    "def disponivel (listacinema, nomefilme, lugar):\n",
    "    disponivel = False\n",
    "    for i in listacinema:\n",
    "        nlugares, vendidos, filme = i\n",
    "        if nomefilme == filme and lugar not in vendidos:\n",
    "            disponivel = True\n",
    "    return disponivel\n",
    "print(disponivel(cinema, \"Twilight\", 9))\n",
    "print(\"------------\")\n",
    "\n",
    "def vendebilhetes(listacinema, nomefilme, lugar):\n",
    "    if disponivel(listacinema, nomefilme, lugar):\n",
    "        for i in listacinema:\n",
    "            nlugares, vendidos, filme = i\n",
    "            if nomefilme == filme:\n",
    "                vendidos.append(lugar)\n",
    "    return listacinema\n",
    "parques = vendebilhetes(cinema, \"Twilight\", 2)\n",
    "print(vendebilhetes(cinema, \"Twilight\", 2))\n",
    "print(\"------------\")\n",
    "\n",
    "def listarDisponibilidades(listacinema):\n",
    "    for i in listacinema:\n",
    "        nlugares, vendidos, filme = i\n",
    "        nLugaresDisponiveis = nlugares - len(vendidos)\n",
    "        print(\"Filme que está a ser exibido:\", filme)\n",
    "        print(\"Número de lugares disponíveis:\", vendidos)\n",
    "print(listarDisponibilidades(cinema))\n",
    "print(\"------------\")\n",
    "\n",
    "def inserirSala(listacinema, nlugares, vendidos, filme):\n",
    "    salaNova = (nlugares, vendidos, filme)\n",
    "    cinema.append(salaNova)\n",
    "    return cinema\n",
    "print(inserirSala(cinema, 10, [1, 3, 6], \"The Hunger Games\"))\n"
   ]
  }
 ],
 "metadata": {
  "kernelspec": {
   "display_name": "Python 3.10.7 64-bit",
   "language": "python",
   "name": "python3"
  },
  "language_info": {
   "codemirror_mode": {
    "name": "ipython",
    "version": 3
   },
   "file_extension": ".py",
   "mimetype": "text/x-python",
   "name": "python",
   "nbconvert_exporter": "python",
   "pygments_lexer": "ipython3",
   "version": "3.10.7"
  },
  "vscode": {
   "interpreter": {
    "hash": "f22c1789ba73bd5b85367d3060967ec2327182f6b7277414860336551592ff38"
   }
  }
 },
 "nbformat": 4,
 "nbformat_minor": 5
}
