{
 "cells": [
  {
   "cell_type": "markdown",
   "id": "1e545158",
   "metadata": {},
   "source": [
    "# Aula Prática 6 (guião)\n",
    "### Semana de 24 a 28 de Outubro de 2022\n",
    "### José Carlos Ramalho e Luís Cunha\n",
    "### Sinopsis:\n",
    "**Vamos desenhar**: Algoritmos e modelação de problemas com representações gráficas."
   ]
  },
  {
   "cell_type": "markdown",
   "id": "7322d8fc",
   "metadata": {},
   "source": [
    "### Exercício 1: Processando um dataset em CSV\n",
    "\n",
    "Escreve um programa que lê o dataset `obras.csv` e realiza as seguintes tarefas (tenta isolar cada tarefa numa função):\n",
    "* Carrega o dataset para uma estrutura de dados pensada por ti;\n",
    "* Quantas obras existem catalogadas no dataset?\n",
    "* Imprime no monitor uma tabela com o título da obra, a sua descrição, o seu compositor e ano de criação;\n",
    "* Produz uma lista de tuplos `(título, ano)` ordenada alfabeticamente por título;\n",
    "* Produz uma lista de tuplos `(título, ano)` ordenada crescentemente por ano;\n",
    "* Produz uma lista ordenada dos compositores;\n",
    "* Calcula uma distribuição das obras por período;\n",
    "* Calcula uma distribuição das obras por ano;\n",
    "* Calcula uma distribuição das obras por compositor;\n",
    "* Especifica uma função que recebendo uma distribuição desenha o seu gráfico. Aplica-a às distribuições anteriores;\n",
    "* Problema da inversão estrutural: calcula uma estrutura de dados que corresponde a uma lista dos compositores em que cada compositor tem a ele associado uma lista dos títulos das obras que compôs;\n",
    "* Cria uma função de visualização para estrutura de dados calculada na alínea anterior.\n"
   ]
  },
  {
   "cell_type": "code",
   "execution_count": null,
   "id": "fcd61505",
   "metadata": {},
   "outputs": [],
   "source": [
    "# Solução do exercício 1\n",
    "#[[],[]] lista de listas ou [(nome, descrição, ano,...,id),(,,,)) lista de tuplos\n",
    "\n",
    "\n",
    "import obras\n",
    "\n",
    "myObras = obras.readDataset(\"../datasets/obras.csv\")"
   ]
  },
  {
   "cell_type": "markdown",
   "id": "52ef42bc",
   "metadata": {},
   "source": [
    "#### Pretty Print: Como escrever de forma formatada e alinhada, os modificadores do `print`"
   ]
  },
  {
   "cell_type": "code",
   "execution_count": null,
   "id": "2f5189ee",
   "metadata": {},
   "outputs": [],
   "source": [
    "for i in range(1,4):\n",
    "    obras.pp(myObras[i])"
   ]
  },
  {
   "cell_type": "markdown",
   "id": "9761d73f",
   "metadata": {},
   "source": [
    "### Metodologia\n",
    "\n",
    "Ao longo dos próximos exercícios irás construir um módulo Python para desenho usando a biblioteca `matplotlib`.\n",
    "Nesse sentido, coloca todas as funções que desenvolveres num módulo chamado `myDrawingFunctions.py` que deverás importar nos programas que irás desenvolver neste guião."
   ]
  },
  {
   "cell_type": "markdown",
   "id": "1d9c2fbc",
   "metadata": {},
   "source": [
    "### Exercício 2: O quadrado \n",
    "\n",
    "Especifica, no teu módulo, uma função para desenhar um quadrado. Além do lado, pensa em parâmetros que te permitam posicionar o quadrado no plano xy.\n",
    "\n",
    "Importa o módulo num programa que irá desenhar os seguintes quadrados:\n",
    "* 1 quadrado de 100 unidades de lado, centrado na origem;\n",
    "* 99 quadrados, dentro do quadrado inicial, em que as coordenadas do canto inferior esquerdo vão sendo incrementadas de 1, ou o lado decrementado de 1."
   ]
  },
  {
   "cell_type": "code",
   "execution_count": null,
   "id": "fde54325",
   "metadata": {},
   "outputs": [],
   "source": [
    "# Solução do exercício 2\n",
    "import myDrawingFunctions as draw\n",
    "\n",
    "draw.quad(0, 0, 100)\n",
    "draw.nquad(0, 0, [x for x in range(1, 101, 5)])"
   ]
  },
  {
   "cell_type": "markdown",
   "id": "57f1522d",
   "metadata": {},
   "source": [
    "### Exercício 3: O retângulo\n",
    "\n",
    "Acrescenta ao teu módulo uma função para desenhar um retângulo devidamente posicionado. Acrescenta um parâmetro cor.\n",
    "\n",
    "Usa agora as funcionalidades do teu módulo para desenhar os seguintes retângulos:\n",
    "* 1 retângulo com o canto inferior esquerdo em (0,0) e o canto superior direito em (5,10);\n",
    "* 10 retângulos, lado a lado, em que os ímpares têm altura 100 e largura 20 e os pares altura 70 e largura 10;\n",
    "* Faz variar a cor entre os retângulos. "
   ]
  },
  {
   "cell_type": "code",
   "execution_count": null,
   "id": "199c3004",
   "metadata": {},
   "outputs": [],
   "source": [
    "# Solução do exercício 3\n",
    "import myDrawingFunctions as draw\n",
    "\n",
    "draw.rect(0, 0, 5, 100)\n"
   ]
  },
  {
   "cell_type": "markdown",
   "id": "08100b64",
   "metadata": {},
   "source": [
    "### Exercício 4: O círculo\n",
    "\n",
    "Acrescenta ao teu módulo uma função para desenhar um círculo devidamente posicionado. Acrescenta um parâmetro cor.\n",
    "\n",
    "Usa agora as funcionalidades do teu módulo para desenhar os seguintes círculos:\n",
    "* 1 círculo de raio 10, centrado na origem;\n",
    "* 10 círculos, concêntricos, centrados na origem, com lados `[10,20,30,40,50,60,70,80,90,100]`;\n",
    "* Faz variar a cor entre os círculos. "
   ]
  },
  {
   "cell_type": "code",
   "execution_count": null,
   "id": "d08949e6",
   "metadata": {},
   "outputs": [],
   "source": [
    "# Solução do exercício 4\n",
    "import myDrawingFunctions as draw\n",
    "\n",
    "draw.circ(0, 0, 10)\n",
    "# ..."
   ]
  },
  {
   "cell_type": "markdown",
   "id": "4193a91b",
   "metadata": {},
   "source": [
    "### TPC6: Análise de dados: ???\n",
    "\n",
    "Descarregue o ficheiro de dados: `myheart.csv`\n",
    "Crie um programa em Python, conjunto de funções, que responda às seguintes questões:\n",
    "* Crie uma função que lê a informação do ficheiro para um modelo, previamente pensado em memória;\n",
    "* Crie uma função que calcula a distribuição da doença por sexo;\n",
    "* Crie uma função que calcula a distribuição da doença por escalões etários. Considere os seguintes escalões: [30-34], [35-39], [40-44], ...\n",
    "* Crie uma função que calcula a distribuição da doença por níveis de colesterol. Considere um nível igual a um intervalo de 10 unidades, comece no limite inferior e crie os níveis necessários até abranger o limite superior;\n",
    "* Crie uma função que imprime na forma de uma tabela uma distribuição;\n",
    "* Especifique um programa que ao executar apresenta as tabelas correspondentes às distribuições pedidas."
   ]
  }
 ],
 "metadata": {
  "kernelspec": {
   "display_name": "Python 3.9.1 64-bit",
   "language": "python",
   "name": "python3"
  },
  "language_info": {
   "codemirror_mode": {
    "name": "ipython",
    "version": 3
   },
   "file_extension": ".py",
   "mimetype": "text/x-python",
   "name": "python",
   "nbconvert_exporter": "python",
   "pygments_lexer": "ipython3",
   "version": "3.9.1"
  },
  "vscode": {
   "interpreter": {
    "hash": "397704579725e15f5c7cb49fe5f0341eb7531c82d19f2c29d197e8b64ab5776b"
   }
  }
 },
 "nbformat": 4,
 "nbformat_minor": 5
}
